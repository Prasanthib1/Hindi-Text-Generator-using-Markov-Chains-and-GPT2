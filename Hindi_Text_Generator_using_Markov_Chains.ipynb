{
  "nbformat": 4,
  "nbformat_minor": 0,
  "metadata": {
    "colab": {
      "name": "textgenerator.ipynb",
      "provenance": [],
      "collapsed_sections": []
    },
    "kernelspec": {
      "name": "python3",
      "display_name": "Python 3"
    },
    "language_info": {
      "name": "python"
    }
  },
  "cells": [
    {
      "cell_type": "code",
      "metadata": {
        "id": "gOqsE1RBBp0d"
      },
      "source": [
        "#To generate the lookup table\n",
        "def generateTable(data,k):   \n",
        "    T = {}\n",
        "    #print(len(data))\n",
        "    for k in range(1,6):\n",
        "      for i in range(len(data)-k):\n",
        "          X = data[i:i+k]\n",
        "          Y = data[i+k]\n",
        "          if T.get(X) is None:\n",
        "              T[X] = {}\n",
        "              T[X][Y] = 1\n",
        "          else:\n",
        "              if T[X].get(Y) is None:\n",
        "                  T[X][Y] = 1\n",
        "              else:\n",
        "                  T[X][Y] += 1\n",
        "          #print(X,Y)\n",
        "    return T"
      ],
      "execution_count": null,
      "outputs": []
    },
    {
      "cell_type": "code",
      "metadata": {
        "colab": {
          "base_uri": "https://localhost:8080/",
          "height": 35
        },
        "id": "gdCT7jV6ONIw",
        "outputId": "d2570ddf-7ad7-4aac-8975-82bfc56e4f43"
      },
      "source": [
        "\"\"\" {\n",
        "  merg:{\n",
        "    e:2/9,\n",
        "    m:3/9,\n",
        "    ' ':4/9,\n",
        "  }\n",
        "  freq:{\n",
        "    e:,\n",
        "    g:,\n",
        "  }\n",
        "}\n",
        "\"\"\""
      ],
      "execution_count": null,
      "outputs": [
        {
          "output_type": "execute_result",
          "data": {
            "application/vnd.google.colaboratory.intrinsic+json": {
              "type": "string"
            },
            "text/plain": [
              "\" {\\n  merg:{\\n    e:2/9,\\n    m:3/9,\\n    ' ':4/9,\\n  }\\n  freq:{\\n    e:,\\n    g:,\\n  }\\n}\\n\""
            ]
          },
          "metadata": {},
          "execution_count": 10
        }
      ]
    },
    {
      "cell_type": "code",
      "metadata": {
        "id": "nOgz6pSFCIke"
      },
      "source": [
        "def freqIntoProb(T):     \n",
        "    for kx in T.keys():\n",
        "        s = float(sum(T[kx].values()))\n",
        "        for k in T[kx].keys():\n",
        "            T[kx][k] = T[kx][k]/s\n",
        "                \n",
        "    return T"
      ],
      "execution_count": null,
      "outputs": []
    },
    {
      "cell_type": "code",
      "metadata": {
        "colab": {
          "base_uri": "https://localhost:8080/"
        },
        "id": "eJRFD94cCLgl",
        "outputId": "a9df2460-f4d8-4f9d-facf-f4f24118a8b7"
      },
      "source": [
        "datasetPath = \"merged_hindi_corpus.txt\"\n",
        "\n",
        "def loadText(filename):\n",
        "    with open(filename,encoding='utf8') as f:\n",
        "        return f.read().lower()\n",
        "    \n",
        "text = loadText(datasetPath)\n",
        "print(\"Dataset Loaded\")"
      ],
      "execution_count": null,
      "outputs": [
        {
          "output_type": "stream",
          "name": "stdout",
          "text": [
            "Dataset Loaded\n"
          ]
        }
      ]
    },
    {
      "cell_type": "code",
      "metadata": {
        "colab": {
          "base_uri": "https://localhost:8080/"
        },
        "id": "BLJvXPgJEmjj",
        "outputId": "01993c06-d8d3-4c05-cf84-b25548e02c03"
      },
      "source": [
        "def MarkovChain(text,k):\n",
        "    T = generateTable(text,k)\n",
        "    T = freqIntoProb(T)\n",
        "    return T\n",
        " \n",
        "model = MarkovChain(text)\n",
        "print('Model Created.')"
      ],
      "execution_count": null,
      "outputs": [
        {
          "output_type": "stream",
          "name": "stdout",
          "text": [
            "Model Created.\n"
          ]
        }
      ]
    },
    {
      "cell_type": "code",
      "metadata": {
        "id": "aUQMoWRVEsZ2"
      },
      "source": [
        "import numpy as np\n",
        "\n",
        "def sample_next(ctx,model):\n",
        "    possi_char = list()\n",
        "    possi_val = list()\n",
        "    sum=0\n",
        "    for i in range(1,len(ctx)+1):\n",
        "      ch = ctx[-i:]\n",
        "      if model.get(ch) is not None:\n",
        "        #print(model[ch])\n",
        "        poss_ch = list(model[ch].keys())\n",
        "        poss_val = list(model[ch].values())\n",
        "        idx = np.argmax(poss_val)\n",
        "        sum+= i*poss_val[idx]\n",
        "        possi_char.append(poss_ch[idx])\n",
        "        possi_val.append(i*poss_val[idx])\n",
        "    \n",
        "    for j in range(len(possi_val)):\n",
        "      possi_val[j]/=sum\n",
        "    \n",
        "    #return possi_char[np.argmax(possi_val)]\n",
        "\n",
        "    #ctx = ctx[-k:]\n",
        "    #if model.get(ctx) is None:\n",
        "    #    return \" \"\n",
        "    possible_Chars = list(model[ctx].keys())\n",
        "    possible_values = list(model[ctx].values())\n",
        "    #print(possible_Chars)\n",
        "    #print(possible_values)\n",
        "    #return possible_Chars[np.argmax(possible_values)]\n",
        "    return np.random.choice(possible_Chars,p=possible_values)"
      ],
      "execution_count": null,
      "outputs": []
    },
    {
      "cell_type": "code",
      "metadata": {
        "colab": {
          "base_uri": "https://localhost:8080/",
          "height": 35
        },
        "id": "-QqkD4cSXReW",
        "outputId": "54c64b93-8ac0-4900-e102-7de1d03d21b8"
      },
      "source": [
        "sample_next(\"भा\",model)"
      ],
      "execution_count": null,
      "outputs": [
        {
          "output_type": "execute_result",
          "data": {
            "application/vnd.google.colaboratory.intrinsic+json": {
              "type": "string"
            },
            "text/plain": [
              "'ज'"
            ]
          },
          "metadata": {},
          "execution_count": 15
        }
      ]
    },
    {
      "cell_type": "code",
      "metadata": {
        "id": "8U6vbZXavXWD"
      },
      "source": [
        "\"\"\"#input\n",
        "word=input(\"Enter word  :  \")\n",
        "while(word != ''):\n",
        "  word+=sample_next(word,model)\n",
        "  if(sample_next(word,model)==' '):\n",
        "    break\n",
        "  else:\n",
        "    word+=sample_next(word,model)\n",
        "\n",
        "print(word)\"\"\""
      ],
      "execution_count": null,
      "outputs": []
    },
    {
      "cell_type": "code",
      "metadata": {
        "id": "2zxtNlRI3H2R"
      },
      "source": [
        "def generateText(starting_sent,k,maxSize=1000):\n",
        "    \n",
        "    sentence = starting_sent\n",
        "    ctx = starting_sent[-k:]\n",
        "    \n",
        "    for ix in range(maxSize):\n",
        "        next_prediction = sample_next(ctx,model)\n",
        "        sentence += next_prediction\n",
        "        ctx = sentence[-k:]\n",
        "    return sentence\n",
        "\n",
        "inpText=input(\"Enter a word or text : \") \n",
        "text = generateText(inpText, k, maxSize=300)\n",
        "print(text)"
      ],
      "execution_count": null,
      "outputs": []
    },
    {
      "cell_type": "code",
      "metadata": {
        "id": "ff1ELKvRxs2Q"
      },
      "source": [
        "accuracy=[]\n",
        "k_values=[]\n",
        "text=load_text(datasetPath)\n",
        "text=text.split(\" \")\n",
        "for k in range(0,40):\n",
        "  model=MarkovChain(text,k)\n",
        "  correct=0\n",
        "  for i in range(len(text)-k):\n",
        "    Xtest=text[i:i+k]\n",
        "    Ytest=text[i+k]\n",
        "    Ypred=generateText(Xtest,model,k)\n",
        "    if(Ytest==Ypred):\n",
        "      correct+=1\n",
        "  accuracy.append(100 * (correct/len(text)))\n",
        "  k_values.append(k)\n",
        " # print(\"Accuracy : {}, k : {}\".format(correct/len(text),k))\n",
        "\n",
        "import matplotlib.pyplot as plt\n",
        "plt.plot(k_values,accuracy)\n",
        "plt.axhline(y=100, c='orange')\n",
        "plt.xlabel(\"n (n-grams)\")\n",
        "plt.ylim(0,115)\n",
        "plt.title(\"Accuracy for character generation using Markov Vs n-grams\")\n",
        "plt.ylabel(\"Accuracy (%)\")\n",
        "plt.show()"
      ],
      "execution_count": null,
      "outputs": []
    }
  ]
}